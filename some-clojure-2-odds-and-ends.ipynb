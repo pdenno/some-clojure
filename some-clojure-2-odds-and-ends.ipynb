{
 "cells": [
  {
   "cell_type": "markdown",
   "metadata": {
    "ein.tags": "worksheet-0",
    "slideshow": {
     "slide_type": "-"
    }
   },
   "source": [
    "# Odds and ends\n",
    "\n",
    "The first notebook was just starting to give you a taste of things. I didn't present thing methodically. This notebook finishes up the\n",
    "\"odds and ends\" introduction to Clojure and the environment -- still not methodical; we'll get to that. \n",
    "\n",
    "First things first: don't modify this notebook unless you've gotten it from the GitHub repository. I think you (Owen) said you\n",
    "had git installed in your system. If not, install it. Then do: `git clone https://github.com/pdenno/some-clojure.git` in\n",
    "a shell. That will create a directory with this notebook in it, among other things.\n",
    "\n",
    "Second, the Clojure cheatsheet that I use is [here](https://clojure.org/api/cheatsheet). When I am programming, I keep it open.\n",
    "\n",
    "The rest of this notebook is about (1) one of the most powerful and essential functions of Clojure `reduce` and (2) another\n",
    "threading macro, `as->`. I don't expect that you will understand all of this right away, but we are still in the mode of looking\n",
    "at the power and possibilities of the language. Then we'll get methodical. \n",
    "\n",
    "We were caclulating mode...."
   ]
  },
  {
   "cell_type": "code",
   "execution_count": 3,
   "metadata": {
    "autoscroll": false,
    "collapsed": false,
    "ein.hycell": false,
    "ein.tags": "worksheet-0",
    "slideshow": {
     "slide_type": "-"
    }
   },
   "outputs": [
    {
     "data": {
      "text/plain": [
       "#'user/data"
      ]
     },
     "execution_count": 3,
     "metadata": {},
     "output_type": "execute_result"
    }
   ],
   "source": [
    "(def data [3 55 62 32 3 3243 4 56 4 454])"
   ]
  },
  {
   "cell_type": "markdown",
   "metadata": {
    "ein.tags": "worksheet-0",
    "slideshow": {
     "slide_type": "-"
    }
   },
   "source": [
    "One tricky thing we did was use `group-by` with the function `identity`. `identity` just gives you back\n",
    "the argument you sent it. Usually that's pretty useless! But it is just what we needed here."
   ]
  },
  {
   "cell_type": "code",
   "execution_count": 8,
   "metadata": {
    "autoscroll": false,
    "collapsed": false,
    "ein.hycell": false,
    "ein.tags": "worksheet-0",
    "slideshow": {
     "slide_type": "-"
    }
   },
   "outputs": [
    {
     "data": {
      "text/plain": [
       ":foo"
      ]
     },
     "execution_count": 8,
     "metadata": {},
     "output_type": "execute_result"
    }
   ],
   "source": [
    "(identity :foo)"
   ]
  },
  {
   "cell_type": "markdown",
   "metadata": {
    "ein.tags": "worksheet-0",
    "slideshow": {
     "slide_type": "-"
    }
   },
   "source": [
    "`group-by` groups together things that return the same value when the first argument function is applied to them.\n",
    "Thus if that first argument is `identity` and the arguments are numbers it groups together each number with\n",
    "other instance of that number:"
   ]
  },
  {
   "cell_type": "code",
   "execution_count": 10,
   "metadata": {
    "autoscroll": false,
    "collapsed": false,
    "ein.hycell": false,
    "ein.tags": "worksheet-0",
    "slideshow": {
     "slide_type": "-"
    }
   },
   "outputs": [
    {
     "data": {
      "text/plain": [
       "{3 [3 3], 55 [55], 62 [62], 32 [32], 3243 [3243], 4 [4 4], 56 [56], 454 [454]}"
      ]
     },
     "execution_count": 10,
     "metadata": {},
     "output_type": "execute_result"
    }
   ],
   "source": [
    "(group-by identity data)"
   ]
  },
  {
   "cell_type": "markdown",
   "metadata": {
    "ein.tags": "worksheet-0",
    "slideshow": {
     "slide_type": "-"
    }
   },
   "source": [
    "Let's try `group-by` to group people by the color of their shoes. "
   ]
  },
  {
   "cell_type": "code",
   "execution_count": 11,
   "metadata": {
    "autoscroll": false,
    "collapsed": false,
    "ein.hycell": false,
    "ein.tags": "worksheet-0",
    "slideshow": {
     "slide_type": "-"
    }
   },
   "outputs": [
    {
     "data": {
      "text/plain": [
       "#'user/people-shoes"
      ]
     },
     "execution_count": 11,
     "metadata": {},
     "output_type": "execute_result"
    }
   ],
   "source": [
    "(def people-shoes [{:name \"Fred\" :shoe-color \"brown\"}\n",
    "                   {:name \"Wilma\" :shoe-color \"brown\"}\n",
    "                   {:name \"Barney\" :shoe-color \"blue\"}\n",
    "                   {:name \"Betty\" :shoe-color \"green\"}])"
   ]
  },
  {
   "cell_type": "markdown",
   "metadata": {
    "ein.tags": "worksheet-0",
    "slideshow": {
     "slide_type": "-"
    }
   },
   "source": [
    "Remember that you can use a keyword as a function. So to each of the maps in the `people-shoes` we can apply `:shoe-color` :"
   ]
  },
  {
   "cell_type": "code",
   "execution_count": 12,
   "metadata": {
    "autoscroll": false,
    "collapsed": false,
    "ein.hycell": false,
    "ein.tags": "worksheet-0",
    "slideshow": {
     "slide_type": "-"
    }
   },
   "outputs": [
    {
     "data": {
      "text/plain": [
       "{\"brown\" [{:name \"Fred\", :shoe-color \"brown\"} {:name \"Wilma\", :shoe-color \"brown\"}], \"blue\" [{:name \"Barney\", :shoe-color \"blue\"}], \"green\" [{:name \"Betty\", :shoe-color \"green\"}]}"
      ]
     },
     "execution_count": 12,
     "metadata": {},
     "output_type": "execute_result"
    }
   ],
   "source": [
    "(group-by :shoe-color people-shoes)"
   ]
  },
  {
   "cell_type": "markdown",
   "metadata": {
    "ein.tags": "worksheet-0",
    "slideshow": {
     "slide_type": "-"
    }
   },
   "source": [
    "Cool, right?\n",
    "\n",
    "### Reduce\n",
    "\n",
    "Okay, the second thing I did yesterday was use the result of `group-by`, the lists of numbers grouped, in a function `reduce-kv`.\n",
    "`reduce` and the special flavor of it, `reduce-kv`, usually takes 3 arguments: a function, a starting thing in which you 'concentrate'\n",
    "the result, and the collection of things you want to run through, concentrating them into the result. We could use it\n",
    "to get the names of all the people-shoes:"
   ]
  },
  {
   "cell_type": "code",
   "execution_count": 13,
   "metadata": {
    "autoscroll": false,
    "collapsed": false,
    "ein.hycell": false,
    "ein.tags": "worksheet-0",
    "slideshow": {
     "slide_type": "-"
    }
   },
   "outputs": [
    {
     "data": {
      "text/plain": [
       "[\"Fred\" \"Wilma\" \"Barney\" \"Betty\"]"
      ]
     },
     "execution_count": 13,
     "metadata": {},
     "output_type": "execute_result"
    }
   ],
   "source": [
    "(reduce\n",
    " (fn [result p-s] (conj result (:name p-s))) ; first argument, a function\n",
    " [] ; second argument, the starting thing to concentrate into\n",
    " people-shoes)"
   ]
  },
  {
   "cell_type": "markdown",
   "metadata": {
    "ein.tags": "worksheet-0",
    "slideshow": {
     "slide_type": "-"
    }
   },
   "source": [
    "The above used a __function__ that we didn't give a name. We introduced it with `fn`. The vector after\n",
    "`fn`, specifically `[result p-s]` are the __arguments__ of the function. In this case they are are, respectively,\n",
    "the thing we want to concentrate things in, called `result` here, and, in turn, one of the people-shoe things we\n",
    "are running through the function, `p-s`.\n",
    "\n",
    "`conj`, called in the function, is a function that returns a collection with a value added to it. \n",
    "For example we can add 333 to `data`:"
   ]
  },
  {
   "cell_type": "code",
   "execution_count": 14,
   "metadata": {
    "autoscroll": false,
    "collapsed": false,
    "ein.hycell": false,
    "ein.tags": "worksheet-0",
    "slideshow": {
     "slide_type": "-"
    }
   },
   "outputs": [
    {
     "data": {
      "text/plain": [
       "[3 55 62 32 3 3243 4 56 4 454 333]"
      ]
     },
     "execution_count": 14,
     "metadata": {},
     "output_type": "execute_result"
    }
   ],
   "source": [
    "(conj data 333)"
   ]
  },
  {
   "cell_type": "markdown",
   "metadata": {
    "ein.tags": "worksheet-0",
    "slideshow": {
     "slide_type": "-"
    }
   },
   "source": [
    "Remember, it didn't change `data`, it just returned a new thing that includes the stuff in `data`.\n",
    "These vector are called `immutable` -- they can't be changed.\n",
    "\n",
    "Okay, back to calculating the mode. Recall what our group-by did:"
   ]
  },
  {
   "cell_type": "code",
   "execution_count": 16,
   "metadata": {
    "autoscroll": false,
    "collapsed": false,
    "ein.hycell": false,
    "ein.tags": "worksheet-0",
    "slideshow": {
     "slide_type": "-"
    }
   },
   "outputs": [
    {
     "data": {
      "text/plain": [
       "{3 [3 3], 55 [55], 62 [62], 32 [32], 3243 [3243], 4 [4 4], 56 [56], 454 [454]}"
      ]
     },
     "execution_count": 16,
     "metadata": {},
     "output_type": "execute_result"
    }
   ],
   "source": [
    "(group-by identity data)"
   ]
  },
  {
   "cell_type": "markdown",
   "metadata": {
    "ein.tags": "worksheet-0",
    "slideshow": {
     "slide_type": "-"
    }
   },
   "source": [
    "Now we want to \"concentrate\" that result (which we never assigned to a variable like we had with `(def data ...)`)\n",
    "by running through it, finding the which elements are used most often, and collecting just those. We did\n",
    "that with:"
   ]
  },
  {
   "cell_type": "code",
   "execution_count": null,
   "metadata": {
    "autoscroll": false,
    "collapsed": false,
    "ein.hycell": false,
    "ein.tags": "worksheet-0",
    "slideshow": {
     "slide_type": "-"
    }
   },
   "outputs": [
    {
     "data": {
      "text/plain": [
       "{:cnt 2, :elems [[3 3] [4 4]]}"
      ]
     },
     "execution_count": 7,
     "metadata": {},
     "output_type": "execute_result"
    }
   ],
   "source": [
    "(reduce-kv\n",
    " (fn [result k v]\n",
    "     (cond (> (count v) (:cnt result))\n",
    "           {:cnt (count v) :elems [v]},\n",
    "           (= (count v) (:cnt result))\n",
    "           (update result :elems conj v),\n",
    "           :else result))\n",
    " {:cnt 0 :elems []}\n",
    " (group-by identity data))\n",
    "           "
   ]
  },
  {
   "cell_type": "markdown",
   "metadata": {
    "ein.tags": "worksheet-0",
    "slideshow": {
     "slide_type": "-"
    }
   },
   "source": [
    "### cond\n",
    "\n",
    "This uses a form `cond` that takes a sequence of forms `<test-form> <execute-form>`. What `cond` does is tries\n",
    "each `<test-form>` in sequence and returns the result of the __first__ `<execute-form>` associated with\n",
    "the `<test-form>` that returned true. So.... remember that `reduce` is running through each of the\n",
    "things given as the third argument in turn. If we ran vanilla `reduce` those things would be couples\n",
    "made up of a key and a value from the argument, which was:\n",
    "\n",
    "`{3 [3 3], 55 [55], 62 [62], 32 [32], 3243 [3243], 4 [4 4], 56 [56], 454 [454]}`\n",
    "\n",
    "So the function would get `(3 [3 3])` then `(55 [55])`, etc.\n",
    "\n",
    "`reduce-kv`  (which is short for \"reduce key value\") is just like `reduce` but it splits those\n",
    "tuples up into what they came from: a key and a value from the argument map. Thus the arguments\n",
    "to the `reduce-kv` are `[result k v]`, not `[result some-kv-thing]`. "
   ]
  },
  {
   "cell_type": "markdown",
   "metadata": {
    "ein.tags": "worksheet-0",
    "slideshow": {
     "slide_type": "-"
    }
   },
   "source": [
    "## Putting it all together, `as->`\n",
    "\n",
    "Okay, so now we've got a useful intermediate result for calculating the mode of data;\n",
    "that intermediate result is a map `{:cnt 2, :elems [[3 3] [4 4]]}`.\n",
    "For the mode, we need to take the average of these numbers.\n",
    "You could just grab them with `:elem` and `flatten` them\n",
    "(see the (Cheatsheet)[https://clojure.org/api/cheatsheet]), but we want to be more dignified than\n",
    "that ;^). We'll take the first element of each list and take the average of that collection.\n",
    "\n",
    "Q: How do you do that without adding more pesky variables using `def`?\n",
    "\n",
    "A: You use a threading macro.\n",
    "\n",
    "You've seen `->` already. \n",
    "Yesterday, to calculate the mode we used a mysterious `as->` form, another threading macro.\n",
    "Recall  that `->` has a topic and flows an object (starting as the topic)\n",
    "through each form inside the `->`, as the form's first argument. Each form can change the object,\n",
    "then pass it on. This kind of thing is so much a part of functional programming....\n",
    "\n",
    "But what if the object flowing doesn't belong as the first argument of the form? Then `->` isn't what you want.\n",
    "There is another threading macro `->>` that flows the object through as the _last_ argument in each form.\n",
    "Clojure programmers tend to use `->` and `->>` a lot. But what if where you need to put the argument isn't\n",
    "always first or last? Well, if you think about it, you can switch from `->` to `->>` just by starting a `->>`\n",
    "inside a `->`. But you can't go in the other direction; you can't switch back to `->` inside a `->>`.\n",
    "\n",
    "There is another threading macro, one that I use quite a bit, it is `as->`. It takes an argument right after\n",
    "the topic,  a variable. (Typically I use a variable that starts with a question mark for this, like `?r`.)\n",
    "That variable gets bound to the topic, and then to the result of applying each of the forms in turn.\n",
    "\n",
    "So here is what we ended up with. "
   ]
  },
  {
   "cell_type": "code",
   "execution_count": 18,
   "metadata": {
    "autoscroll": false,
    "collapsed": false,
    "ein.hycell": false,
    "ein.tags": "worksheet-0",
    "slideshow": {
     "slide_type": "-"
    }
   },
   "outputs": [
    {
     "data": {
      "text/plain": [
       "3.5"
      ]
     },
     "execution_count": 18,
     "metadata": {},
     "output_type": "execute_result"
    }
   ],
   "source": [
    "(as-> data ?r ; ?r for \"result\", the thing we bind to numbers and then each subsequent result.\n",
    "      (reduce-kv\n",
    "       (fn [result k v]\n",
    "           (cond (> (count v) (:cnt result))\n",
    "                 {:cnt (count v) :elems [v]},\n",
    "                 (= (count v) (:cnt result))\n",
    "                 (update result :elems conj v),\n",
    "                 :else result))\n",
    "       {:cnt 0 :elems []}\n",
    "       (group-by identity ?r))    ; The first form (the result) ends way down here! We use ?r (bound to data) rather than data.\n",
    "      (:elems ?r)                 ; This is the second form. We get the :elems out of ?r.\n",
    "      (mapv first ?r)             ; This is the third form. We take the first element of [3 3] and [4 4] , getting [3 4]\n",
    "      (/ (apply + ?r) (count ?r)) ; This is the fourth form. It take the average of [3 4] just as we did before.\n",
    "      (float ?r))                 ; This is the fifth and final form, the average is 7/2. Let's see it as a floating point number      "
   ]
  },
  {
   "cell_type": "markdown",
   "metadata": {
    "ein.tags": "worksheet-0",
    "slideshow": {
     "slide_type": "-"
    }
   },
   "source": [
    "TaDa! One tiny note: instead of doing things like `(/ (apply + ?r) (count ?r))` all over the place, you\n",
    "can write your own function:"
   ]
  },
  {
   "cell_type": "code",
   "execution_count": null,
   "metadata": {
    "autoscroll": false,
    "collapsed": false,
    "ein.hycell": false,
    "ein.tags": "worksheet-0",
    "slideshow": {
     "slide_type": "-"
    }
   },
   "outputs": [],
   "source": [
    "(defn avg\n",
    "  \"Take a vector V and return the average of its values.\"\n",
    "  [v]\n",
    "  (float (/ (apply + v) (count v)))) ; could also use -> to do this with less parentheses.  "
   ]
  },
  {
   "cell_type": "markdown",
   "metadata": {
    "ein.tags": "worksheet-0",
    "slideshow": {
     "slide_type": "-"
    }
   },
   "source": [
    "## You try something!\n",
    "\n",
    "Make a function out of mode above, then apply it as suggested yesterday using `assoc` to make a map\n",
    "of all the statistics you collected.\n",
    "\n",
    "## Extra credit\n",
    "\n",
    "A (concordance)[https://en.wikipedia.org/wiki/Concordance_(publishing)] is a list of words used in\n",
    "a text. A concordance is useful in (natural language processing)[https://en.wikipedia.org/wiki/Natural_language_processing]\n",
    "(NLP), something we can screw around with. Here is a concordance, hardly perfect, for some text in a paragraph in the\n",
    "subdirectory `resources/paragraph.txt`. See what you can do with it!"
   ]
  },
  {
   "cell_type": "code",
   "execution_count": 21,
   "metadata": {
    "autoscroll": false,
    "collapsed": false,
    "ein.hycell": false,
    "ein.tags": "worksheet-0",
    "slideshow": {
     "slide_type": "-"
    }
   },
   "outputs": [
    {
     "data": {
      "text/plain": [
       "{\"technology\" 1, \"ability\" 1, \"queries\" 1, \"for.\" 1, \"(such\" 1, \"means\" 1, \"comparable\" 1, \"identifying\" 1, \"word\" 2, \"semantic\" 1, \"techniques\" 1, \"of\" 3, \"reduced\" 1, \"latent\" 1, \"every\" 1, \"linguistic\" 1, \"offered\" 1, \"In\" 2, \"long\" 1, \"something\" 1, \"era,\" 1, \"precomputing\" 1, \"they\" 1, \"mathematical\" 1, \"Today,\" 1, \"results\" 1, \"for\" 2, \"addition,\" 1, \"searching\" 1, \"words\" 1, \"likely\" 1, \"words)\" 1, \"was\" 1, \"that\" 1, \"have\" 2, \"based\" 1, \"a\" 2, \"on\" 1, \"concordance\" 2, \"context.\" 1, \"and\" 1, \"publishing.\" 1, \"concerning\" 1, \"indexing\" 1, \"such\" 2, \"terms\" 1, \"other\" 1, \"interest\" 1, \"would\" 1, \"unavailable,\" 1, \"information\" 1, \"readers\" 1, \"has\" 1, \"works\" 1, \"combine\" 1, \"to\" 3, \"search\" 3, \"as\" 4, \"automatically\" 1, \"the\" 4, \"proposed\" 1, \"been\" 2, \"result\" 1, \"near\" 1, \"Bible\" 1, \"in\" 1, \"multiple\" 1}"
      ]
     },
     "execution_count": 21,
     "metadata": {},
     "output_type": "execute_result"
    }
   ],
   "source": [
    "(-> \"resources/paragraph.txt\"\n",
    "    slurp\n",
    "    (clojure.string/split #\"\\s+\")\n",
    "    (->> (group-by identity)\n",
    "         (reduce-kv\n",
    "          (fn [result k v] (assoc result k (count v)))\n",
    "          {})))          "
   ]
  }
 ],
 "metadata": {
  "kernelspec": {
   "argv": [
    "java",
    "-jar",
    "/home/pdenno/.local/share/jupyter/kernels/clojupyter/clojupyter-0.2.2-standalone.jar",
    "{connection_file}"
   ],
   "display_name": "Clojure (clojupyter-v0.2.2)",
   "env": null,
   "interrupt_mode": "signal",
   "language": "clojure",
   "metadata": null,
   "name": "clojupyter"
  },
  "name": "some-clojure-2-odds-and-ends.ipynb"
 },
 "nbformat": 4,
 "nbformat_minor": 2
}
